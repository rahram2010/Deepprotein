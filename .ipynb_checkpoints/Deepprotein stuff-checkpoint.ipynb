{
 "cells": [
  {
   "cell_type": "code",
   "execution_count": 108,
   "metadata": {},
   "outputs": [],
   "source": [
    "#lets start by importing a bunch of stuff\n",
    "import tensorflow as tf\n",
    "import pandas as pd\n",
    "import numpy as np\n",
    "import math "
   ]
  },
  {
   "cell_type": "code",
   "execution_count": 105,
   "metadata": {},
   "outputs": [],
   "source": [
    "# Downloading and separating data\n",
    "\n",
    "#explictily setting the types and names\n",
    "names_data = ['entry','entry_name','protein_name','gene_name','organism','length','sequence',\n",
    "              'gene_ontology','status','organism_id','keywords']\n",
    "\n",
    "dtypes_data = {'entry':'str','entry_name':'str','protein_name':'str','gene_name':'str',\n",
    "               'organism':'str','length':'int','sequence':'str','gene_ontology':'str','status':'str',\n",
    "               'organism_id':'int','keywords':'str'}\n",
    "\n",
    "\n",
    "protein_data = pd.read_csv('uniprot-filtered-reviewed_yes.tab',sep='\\t',names = names_data,dtype=dtypes_data,skiprows=1)\n",
    "\n",
    "\n",
    "#Seeing what the data looks like\n",
    "protein_data.shape\n",
    "\n",
    "#randomly shuffling dataset \n",
    "\n",
    "protein_data = protein_data.sample(frac=1)\n",
    "\n"
   ]
  },
  {
   "cell_type": "code",
   "execution_count": 106,
   "metadata": {},
   "outputs": [
    {
     "data": {
      "text/plain": [
       "(556604, 11)"
      ]
     },
     "execution_count": 106,
     "metadata": {},
     "output_type": "execute_result"
    }
   ],
   "source": [
    "#Ignoring protein's with ambigous amino acid codes \n",
    "\n",
    "protein_data = protein_data[~protein_data.sequence.str.contains('B')]\n",
    "protein_data = protein_data[~protein_data.sequence.str.contains('O')]\n",
    "protein_data = protein_data[~protein_data.sequence.str.contains('J')]\n",
    "protein_data = protein_data[~protein_data.sequence.str.contains('U')]\n",
    "protein_data = protein_data[~protein_data.sequence.str.contains('X')]\n",
    "protein_data = protein_data[~protein_data.sequence.str.contains('Z')]\n",
    "\n",
    "protein_data.shape\n"
   ]
  },
  {
   "cell_type": "code",
   "execution_count": 121,
   "metadata": {},
   "outputs": [
    {
     "data": {
      "text/plain": [
       "(111321, 9)"
      ]
     },
     "execution_count": 121,
     "metadata": {},
     "output_type": "execute_result"
    }
   ],
   "source": [
    "#Dividing into 80 percent training and 20 percent test\n",
    "train, test = np.split(protein_data, [int(.8*len(protein_data))])\n",
    "\n",
    "#removing GO labels and keywords from the test dataset\n",
    "test = test.drop(columns=['gene_ontology','keywords'])\n",
    "\n",
    "\n"
   ]
  },
  {
   "cell_type": "code",
   "execution_count": null,
   "metadata": {},
   "outputs": [],
   "source": []
  }
 ],
 "metadata": {
  "kernelspec": {
   "display_name": "Python 3",
   "language": "python",
   "name": "python3"
  },
  "language_info": {
   "codemirror_mode": {
    "name": "ipython",
    "version": 3
   },
   "file_extension": ".py",
   "mimetype": "text/x-python",
   "name": "python",
   "nbconvert_exporter": "python",
   "pygments_lexer": "ipython3",
   "version": "3.6.8"
  }
 },
 "nbformat": 4,
 "nbformat_minor": 2
}
